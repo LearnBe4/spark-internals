{
 "cells": [
  {
   "cell_type": "code",
   "execution_count": 1,
   "id": "f8213187-a564-42d7-8645-8f5f42d66356",
   "metadata": {},
   "outputs": [
    {
     "name": "stdout",
     "output_type": "stream",
     "text": [
      "Fire_Department_Calls_For_Service__2016__20240816.csv\n"
     ]
    }
   ],
   "source": [
    "!ls /opt/spark/data"
   ]
  },
  {
   "cell_type": "code",
   "execution_count": 2,
   "id": "e6f692c9-35ec-49c0-8059-931c2277355f",
   "metadata": {},
   "outputs": [
    {
     "name": "stderr",
     "output_type": "stream",
     "text": [
      "Setting default log level to \"WARN\".\n",
      "To adjust logging level use sc.setLogLevel(newLevel). For SparkR, use setLogLevel(newLevel).\n",
      "25/04/26 08:53:44 WARN NativeCodeLoader: Unable to load native-hadoop library for your platform... using builtin-java classes where applicable\n"
     ]
    }
   ],
   "source": [
    "from pyspark.sql import SparkSession\n",
    "\n",
    "spark = (SparkSession\n",
    "             .builder\n",
    "             #.enableHiveSupport()\n",
    "             .master(\"spark://spark-master:7077\")\n",
    "             .config(\"spark.sql.warehouse.dir\", \"/opt/spark/spark-warehouse\")\n",
    "             .getOrCreate()\n",
    "             )"
   ]
  },
  {
   "cell_type": "code",
   "execution_count": 3,
   "id": "2a2cf862-165e-4886-8738-36489fcdde31",
   "metadata": {},
   "outputs": [
    {
     "name": "stderr",
     "output_type": "stream",
     "text": [
      "                                                                                \r"
     ]
    }
   ],
   "source": [
    "df=spark.read.format(\"csv\").option(\"header\", True).option(\"inferSchema\", True).load(\"/opt/spark/data/Fire_Department_Calls_For_Service__2016__20240816.csv\")\n"
   ]
  },
  {
   "cell_type": "code",
   "execution_count": null,
   "id": "efc97049-e651-47fe-bc16-eaf17621edfa",
   "metadata": {},
   "outputs": [
    {
     "data": {
      "text/plain": [
       "10"
      ]
     },
     "execution_count": 4,
     "metadata": {},
     "output_type": "execute_result"
    }
   ],
   "source": [
    "df.rdd.getNumPartitions()"
   ]
  },
  {
   "cell_type": "code",
   "execution_count": 6,
   "id": "d22a6cd5-e7dc-4b38-aabb-8f2a3d9c89f8",
   "metadata": {},
   "outputs": [],
   "source": [
    "for cols in df.columns:\n",
    "    df=df.withColumnRenamed(cols, cols.lower().replace(\" \",\"_\"))"
   ]
  },
  {
   "cell_type": "code",
   "execution_count": 8,
   "id": "f36cf4c6-9136-4f03-a8f1-2531668867c0",
   "metadata": {},
   "outputs": [
    {
     "name": "stdout",
     "output_type": "stream",
     "text": [
      "root\n",
      " |-- call_number: integer (nullable = true)\n",
      " |-- unit_id: string (nullable = true)\n",
      " |-- incident_number: integer (nullable = true)\n",
      " |-- call_date: string (nullable = true)\n",
      " |-- watch_date: string (nullable = true)\n",
      " |-- received_dttm: string (nullable = true)\n",
      " |-- entry_dttm: string (nullable = true)\n",
      " |-- dispatch_dttm: string (nullable = true)\n",
      " |-- response_dttm: string (nullable = true)\n",
      " |-- on_scene_dttm: string (nullable = true)\n",
      " |-- transport_dttm: string (nullable = true)\n",
      " |-- hospital_dttm: string (nullable = true)\n",
      " |-- call_final_disposition: string (nullable = true)\n",
      " |-- available_dttm: string (nullable = true)\n",
      " |-- address: string (nullable = true)\n",
      " |-- city: string (nullable = true)\n",
      " |-- zipcode_of_incident: double (nullable = true)\n",
      " |-- battalion: string (nullable = true)\n",
      " |-- station_area: string (nullable = true)\n",
      " |-- box: string (nullable = true)\n",
      " |-- original_priority: string (nullable = true)\n",
      " |-- priority: string (nullable = true)\n",
      " |-- final_priority: integer (nullable = true)\n",
      " |-- als_unit: boolean (nullable = true)\n",
      " |-- call_type_group: string (nullable = true)\n",
      " |-- number_of_alarms: integer (nullable = true)\n",
      " |-- unit_type: string (nullable = true)\n",
      " |-- unit_sequence_in_call_dispatch: integer (nullable = true)\n",
      " |-- fire_prevention_district: string (nullable = true)\n",
      " |-- supervisor_district: string (nullable = true)\n",
      " |-- neighborhooods_-_analysis_boundaries: string (nullable = true)\n",
      " |-- rowid: string (nullable = true)\n",
      "\n"
     ]
    }
   ],
   "source": [
    "df.printSchema()"
   ]
  },
  {
   "cell_type": "code",
   "execution_count": 11,
   "id": "8887d76f-72d8-43d8-9a2b-dd873667ae15",
   "metadata": {},
   "outputs": [
    {
     "name": "stderr",
     "output_type": "stream",
     "text": [
      "                                                                                \r"
     ]
    },
    {
     "data": {
      "text/plain": [
       "12"
      ]
     },
     "execution_count": 11,
     "metadata": {},
     "output_type": "execute_result"
    }
   ],
   "source": [
    "df3=df.select(\"unit_type\").drop_duplicates()\n",
    "df3.count()"
   ]
  },
  {
   "cell_type": "code",
   "execution_count": 12,
   "id": "258c3ddf-adf2-4647-8e04-8766adcced98",
   "metadata": {},
   "outputs": [
    {
     "name": "stderr",
     "output_type": "stream",
     "text": [
      "[Stage 26:>                                                       (0 + 10) / 10]\r"
     ]
    },
    {
     "data": {
      "text/plain": [
       "1"
      ]
     },
     "execution_count": 12,
     "metadata": {},
     "output_type": "execute_result"
    }
   ],
   "source": [
    "df3.rdd.getNumPartitions()"
   ]
  },
  {
   "cell_type": "code",
   "execution_count": 10,
   "id": "97f13b8b-c70f-4daf-a291-fc278141fade",
   "metadata": {},
   "outputs": [],
   "source": [
    "df2=df.groupBy(\"unit_type\").count()"
   ]
  },
  {
   "cell_type": "code",
   "execution_count": 11,
   "id": "6b4fec83-2c96-4ed5-bb46-249fa729e816",
   "metadata": {},
   "outputs": [
    {
     "name": "stderr",
     "output_type": "stream",
     "text": [
      "[Stage 8:>                                                        (0 + 10) / 10]\r"
     ]
    },
    {
     "data": {
      "text/plain": [
       "1"
      ]
     },
     "execution_count": 11,
     "metadata": {},
     "output_type": "execute_result"
    }
   ],
   "source": [
    "df2.rdd.getNumPartitions()"
   ]
  },
  {
   "cell_type": "code",
   "execution_count": 18,
   "id": "8d081e65-3171-424e-9c77-4d923619f4bc",
   "metadata": {},
   "outputs": [
    {
     "name": "stderr",
     "output_type": "stream",
     "text": [
      "                                                                                \r"
     ]
    },
    {
     "name": "stdout",
     "output_type": "stream",
     "text": [
      "+--------------+------+\n",
      "|     unit_type| count|\n",
      "+--------------+------+\n",
      "|       AIRPORT|   710|\n",
      "|         MEDIC|842164|\n",
      "|         CHIEF|198516|\n",
      "|  RESCUE SQUAD| 38290|\n",
      "|           BLS|  9753|\n",
      "|RESCUE CAPTAIN| 91032|\n",
      "|         TRUCK|265292|\n",
      "| INVESTIGATION|  2374|\n",
      "|            CP| 30597|\n",
      "|        ENGINE|922851|\n",
      "|       SUPPORT| 83609|\n",
      "|       PRIVATE|263791|\n",
      "+--------------+------+\n",
      "\n"
     ]
    }
   ],
   "source": [
    "df2.show()"
   ]
  },
  {
   "cell_type": "code",
   "execution_count": 15,
   "id": "baa66e8f-d010-494e-bcc1-f7d776372a96",
   "metadata": {},
   "outputs": [
    {
     "name": "stderr",
     "output_type": "stream",
     "text": [
      "25/04/25 13:50:00 WARN SparkStringUtils: Truncated the string representation of a plan since it was too large. This behavior can be adjusted by setting 'spark.sql.debug.maxToStringFields'.\n"
     ]
    },
    {
     "data": {
      "text/plain": [
       "DataFrame[call_number: int, unit_id: string, incident_number: int, call_date: string, watch_date: string, received_dttm: string, entry_dttm: string, dispatch_dttm: string, response_dttm: string, on_scene_dttm: string, transport_dttm: string, hospital_dttm: string, call_final_disposition: string, available_dttm: string, address: string, city: string, zipcode_of_incident: double, battalion: string, station_area: string, box: string, original_priority: string, priority: string, final_priority: int, als_unit: boolean, call_type_group: string, number_of_alarms: int, unit_type: string, unit_sequence_in_call_dispatch: int, fire_prevention_district: string, supervisor_district: string, neighborhooods_-_analysis_boundaries: string, rowid: string]"
      ]
     },
     "execution_count": 15,
     "metadata": {},
     "output_type": "execute_result"
    }
   ],
   "source": [
    "df.cache()"
   ]
  },
  {
   "cell_type": "code",
   "execution_count": 16,
   "id": "9dcccb21-e27a-4abf-bb74-9d47ca79af68",
   "metadata": {},
   "outputs": [
    {
     "name": "stderr",
     "output_type": "stream",
     "text": [
      "                                                                                \r"
     ]
    },
    {
     "data": {
      "text/plain": [
       "2748979"
      ]
     },
     "execution_count": 16,
     "metadata": {},
     "output_type": "execute_result"
    }
   ],
   "source": [
    "df.count()"
   ]
  },
  {
   "cell_type": "code",
   "execution_count": 13,
   "id": "472e7e0b-aeae-4210-8aeb-6e30372a1d53",
   "metadata": {},
   "outputs": [],
   "source": [
    "spark.conf.set(\"spark.sql.adaptive.enabled\", \"false\")"
   ]
  },
  {
   "cell_type": "code",
   "execution_count": 16,
   "id": "65160ffd-39d0-46b3-8e01-9de2800c29d2",
   "metadata": {},
   "outputs": [
    {
     "name": "stderr",
     "output_type": "stream",
     "text": [
      "                                                                                \r"
     ]
    },
    {
     "name": "stdout",
     "output_type": "stream",
     "text": [
      "+--------------+------+\n",
      "|     unit_type| count|\n",
      "+--------------+------+\n",
      "|       AIRPORT|   710|\n",
      "|         MEDIC|842164|\n",
      "|         CHIEF|198516|\n",
      "|  RESCUE SQUAD| 38290|\n",
      "|           BLS|  9753|\n",
      "|RESCUE CAPTAIN| 91032|\n",
      "|         TRUCK|265292|\n",
      "| INVESTIGATION|  2374|\n",
      "|            CP| 30597|\n",
      "|        ENGINE|922851|\n",
      "|       SUPPORT| 83609|\n",
      "|       PRIVATE|263791|\n",
      "+--------------+------+\n",
      "\n"
     ]
    }
   ],
   "source": [
    "df2=df.groupBy(\"unit_type\").count()\n",
    "df2.show()"
   ]
  },
  {
   "cell_type": "code",
   "execution_count": 15,
   "id": "a96ac9be-1310-4fac-a5d6-dbdac7683ae6",
   "metadata": {},
   "outputs": [
    {
     "data": {
      "text/plain": [
       "200"
      ]
     },
     "execution_count": 15,
     "metadata": {},
     "output_type": "execute_result"
    }
   ],
   "source": [
    "df2.rdd.getNumPartitions()"
   ]
  },
  {
   "cell_type": "code",
   "execution_count": 12,
   "id": "0534eb8e-89d0-4dd5-8e91-8c449adb954b",
   "metadata": {},
   "outputs": [
    {
     "data": {
      "text/plain": [
       "'200'"
      ]
     },
     "execution_count": 12,
     "metadata": {},
     "output_type": "execute_result"
    }
   ],
   "source": [
    "spark.conf.get(\"spark.sql.shuffle.partitions\")"
   ]
  },
  {
   "cell_type": "code",
   "execution_count": 20,
   "id": "e7bf0f95-796e-42e8-a5f5-5918fb4c3fce",
   "metadata": {},
   "outputs": [],
   "source": [
    "spark.conf.set(\"spark.sql.shuffle.partitions\", 20)"
   ]
  }
 ],
 "metadata": {
  "kernelspec": {
   "display_name": "Python 3 (ipykernel)",
   "language": "python",
   "name": "python3"
  },
  "language_info": {
   "codemirror_mode": {
    "name": "ipython",
    "version": 3
   },
   "file_extension": ".py",
   "mimetype": "text/x-python",
   "name": "python",
   "nbconvert_exporter": "python",
   "pygments_lexer": "ipython3",
   "version": "3.12.10"
  }
 },
 "nbformat": 4,
 "nbformat_minor": 5
}
